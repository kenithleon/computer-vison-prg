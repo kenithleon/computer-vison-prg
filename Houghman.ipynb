{
  "nbformat": 4,
  "nbformat_minor": 0,
  "metadata": {
    "colab": {
      "provenance": [],
      "mount_file_id": "1CaUW4dZ30BH-X3FnujdhrynyywmuF5Eh",
      "authorship_tag": "ABX9TyNykj5aeckHSvWr1e+TbRoN",
      "include_colab_link": true
    },
    "kernelspec": {
      "name": "python3",
      "display_name": "Python 3"
    },
    "language_info": {
      "name": "python"
    }
  },
  "cells": [
    {
      "cell_type": "markdown",
      "metadata": {
        "id": "view-in-github",
        "colab_type": "text"
      },
      "source": [
        "<a href=\"https://colab.research.google.com/github/kenithleon/computer-vison-prg/blob/main/Houghman.ipynb\" target=\"_parent\"><img src=\"https://colab.research.google.com/assets/colab-badge.svg\" alt=\"Open In Colab\"/></a>"
      ]
    },
    {
      "cell_type": "code",
      "execution_count": 11,
      "metadata": {
        "colab": {
          "base_uri": "https://localhost:8080/"
        },
        "id": "HVG9LFaIRrx-",
        "outputId": "1a1fd191-aa39-4dd3-e24d-22f94fe04ea4"
      },
      "outputs": [
        {
          "output_type": "stream",
          "name": "stdout",
          "text": [
            "Saved edges.png and lines_detected.png\n"
          ]
        }
      ],
      "source": [
        "import cv2\n",
        "import numpy as np\n",
        "# ===== Option A: use your own image =====\n",
        "# Replace with your file name\n",
        "img = cv2.imread(\"/content/wp11249668-1994-hoonigan-ford-escort-rs-cosworth-wrc-cossie-v2-wallpapers.jpg\") # e.g., \"road.jpg\"\n",
        "if img is None:\n",
        "  # ===== Option B: create a synthetic image with lines =====\n",
        "  img = np.zeros((400, 600, 3), dtype=np.uint8)\n",
        "  cv2.line(img, (50, 350), (550, 50), (255, 255, 255), 2) # diagonal\n",
        "  cv2.line(img, (100, 100), (500, 100), (255, 255, 255), 2) # horizontal\n",
        "  cv2.line(img, (300, 350), (300, 50), (255, 255, 255), 2) # vertical\n",
        "# Convert to gray & detect edges\n",
        "gray = cv2.cvtColor(img, cv2.COLOR_BGR2GRAY)\n",
        "edges = cv2.Canny(gray, 50, 150) # try (100, 200) for stronger filtering\n",
        "# HoughLinesP parameters:\n",
        "# rho=1 pixel, theta=1 degree, threshold=80 votes,\n",
        "# minLineLength=50 pixels (shorter lines are ignored),\n",
        "# maxLineGap=10 pixels (connect broken segments)\n",
        "linesP = cv2.HoughLinesP(edges, rho=1, theta=np.pi/180,\n",
        "threshold=80, minLineLength=50, maxLineGap=10)\n",
        "\n",
        "out = img.copy()\n",
        "if linesP is not None:\n",
        "  for (x1, y1, x2, y2) in linesP[:, 0, :]:\n",
        "    cv2.line(out, (x1, y1), (x2, y2), (0, 0, 255), 2)\n",
        "# Save results (use imshow if you have a GUI)\n",
        "cv2.imwrite(\"edges.png\", edges)\n",
        "cv2.imwrite(\"lines_detected.png\", out)\n",
        "print(\"Saved edges.png and lines_detected.png\")"
      ]
    }
  ]
}